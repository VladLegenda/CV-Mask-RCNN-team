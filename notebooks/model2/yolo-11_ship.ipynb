{
 "cells": [
  {
   "cell_type": "code",
   "execution_count": null,
   "metadata": {},
   "outputs": [],
   "source": [
    "from ultralytics import YOLO\n",
    "\n",
    "import torch\n",
    "\n",
    "\n",
    "import cv2\n",
    "import os\n",
    "import random"
   ]
  },
  {
   "cell_type": "code",
   "execution_count": null,
   "metadata": {},
   "outputs": [],
   "source": [
    "if torch.cuda.is_available():\n",
    "    print(\"CUDA доступна!\")\n",
    "    device = torch.device(\"cuda\")\n",
    "else:\n",
    "    print(\"CUDA недоступна. Вычисления будут выполняться на CPU.\")\n",
    "    device = torch.device(\"cpu\")"
   ]
  },
  {
   "cell_type": "code",
   "execution_count": null,
   "metadata": {},
   "outputs": [],
   "source": [
    "model = YOLO(\"/home/mike/Elbrus/my_folder/cv-project/notebooks/runs/detect/train3/weights/best.pt\")"
   ]
  },
  {
   "cell_type": "code",
   "execution_count": null,
   "metadata": {},
   "outputs": [],
   "source": [
    "results = model.train(\n",
    "    data=\"../ships-aerial-images/data.yaml\",\n",
    "    epochs=50,\n",
    "    imgsz=640,\n",
    "    batch=12,\n",
    "    device=device,\n",
    "    optimizer='SGD'\n",
    "    )"
   ]
  },
  {
   "cell_type": "markdown",
   "metadata": {},
   "source": []
  },
  {
   "cell_type": "code",
   "execution_count": null,
   "metadata": {},
   "outputs": [],
   "source": [
    "# results = model.predict(\"../ships-aerial-images/test/images/d0772_png.rf.e33de7bf390374232fdd5419624da40f.jpg\", conf=0.5)\n",
    "# # results = model.predict(\"../ships-aerial-images/test/images/0__20160905_193458_0c37__-122-34588841807276_37-756417599310865_png.rf.82197eb6853000003827a752a1c02a47.jpg\", conf=0.1)\n",
    "# # results = model.predict(\"../ships-aerial-images/test/images/0__20161006_004004_0c38__-122-35115763991095_37-7692093023039_png.rf.038e071514696de42fd7fa870bc591b6.jpg\", conf=0.5)\n",
    "# # results = model.predict(\"../ships-aerial-images/test/images/0f3d1a02e_jpg.rf.f2a15d7b7be50e9f729fe785320a1dd1.jpg\", conf=0.5)\n",
    "# # results = model.predict(\"../ships-aerial-images/test/images/1f8b6650c_jpg.rf.2f6c610e2ad91d0bc71134043c532e0e.jpg\", conf=0.5)\n",
    "# # results = model.predict(\"../ships-aerial-images/test/images/2e683a11c_jpg.rf.e9b3c84d77fecccbd7a46886c15e290d.jpg\", conf=0.5)\n",
    "\n",
    "# for result in results:\n",
    "#     result.show()"
   ]
  },
  {
   "cell_type": "code",
   "execution_count": null,
   "metadata": {},
   "outputs": [],
   "source": [
    "model=YOLO('/home/mike/Elbrus/my_folder/cv-project/notebooks/runs/detect/train3/weights/best.pt')"
   ]
  },
  {
   "cell_type": "code",
   "execution_count": null,
   "metadata": {},
   "outputs": [],
   "source": [
    "image_dir = \"/home/mike/Elbrus/my_folder/cv-project/ships-aerial-images/test/images\"\n",
    "\n",
    "all_images = os.listdir(image_dir)\n",
    "\n",
    "selected_image = random.choice(all_images)\n",
    "\n",
    "img_path = os.path.join(image_dir, selected_image) \n",
    "result = model.predict(img_path)\n",
    "result[0].show()"
   ]
  },
  {
   "cell_type": "code",
   "execution_count": null,
   "metadata": {},
   "outputs": [],
   "source": [
    "torch.cuda.empty_cache()"
   ]
  }
 ],
 "metadata": {
  "kernelspec": {
   "display_name": "phase_2_3",
   "language": "python",
   "name": "python3"
  },
  "language_info": {
   "codemirror_mode": {
    "name": "ipython",
    "version": 3
   },
   "file_extension": ".py",
   "mimetype": "text/x-python",
   "name": "python",
   "nbconvert_exporter": "python",
   "pygments_lexer": "ipython3",
   "version": "3.12.8"
  }
 },
 "nbformat": 4,
 "nbformat_minor": 2
}
