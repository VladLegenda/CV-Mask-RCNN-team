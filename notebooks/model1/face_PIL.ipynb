{
 "cells": [
  {
   "cell_type": "code",
   "execution_count": 2,
   "id": "869ab322-7fda-4e8f-963e-fc4688ed46b5",
   "metadata": {},
   "outputs": [],
   "source": [
    "from ultralytics import YOLO\n",
    "import requests\n",
    "import numpy as np\n",
    "from PIL import Image, ImageFilter\n",
    "from io import BytesIO\n"
   ]
  },
  {
   "cell_type": "code",
   "execution_count": 3,
   "id": "1e7ed275-f5a8-4b25-b9ac-adffb55b8dea",
   "metadata": {},
   "outputs": [],
   "source": [
    "model = YOLO(\"./models/model_1/best.pt\")"
   ]
  },
  {
   "cell_type": "code",
   "execution_count": 4,
   "id": "b88d3687-1dc1-47a8-ba5e-9420a126256e",
   "metadata": {},
   "outputs": [],
   "source": [
    "urls = [\n",
    "    \"https://ultralytics.com/images/bus.jpg\",\n",
    "    \"https://t4.ftcdn.net/jpg/04/85/39/87/360_F_485398728_aKL9duq8W78nnZ65BR3oGRMgari0sWEG.jpg\"\n",
    "]"
   ]
  },
  {
   "cell_type": "code",
   "execution_count": 5,
   "id": "35403583-f29c-486d-a656-3b908e1c5998",
   "metadata": {},
   "outputs": [],
   "source": [
    "images = []\n",
    "for url in urls:\n",
    "    response = requests.get(url)\n",
    "    if response.status_code == 200:\n",
    "        image = Image.open(BytesIO(response.content))\n",
    "        images.append(image)\n",
    "\n"
   ]
  },
  {
   "cell_type": "code",
   "execution_count": 6,
   "id": "7d138f49-a801-4379-81df-cc5514cf6b45",
   "metadata": {},
   "outputs": [
    {
     "name": "stdout",
     "output_type": "stream",
     "text": [
      "\n",
      "0: 640x640 2 faces, 65.0ms\n",
      "1: 640x640 10 faces, 65.0ms\n",
      "Speed: 4.0ms preprocess, 65.0ms inference, 2.0ms postprocess per image at shape (1, 3, 640, 640)\n"
     ]
    }
   ],
   "source": [
    "results = model.predict(images, conf=0.5)"
   ]
  },
  {
   "cell_type": "code",
   "execution_count": 7,
   "id": "21b2fc72-0408-4a22-b965-4f4878a6c12b",
   "metadata": {},
   "outputs": [],
   "source": [
    "blured_images = []\n",
    "for i, result in enumerate(results):\n",
    "    blured_image = images[i].copy()\n",
    "    for box in result.boxes:\n",
    "        x1, y1, x2, y2 = map(round, box.xyxy.flatten().tolist())\n",
    "        crop = blured_image.crop((x1, y1, x2, y2))\n",
    "        blured_crop = crop.filter(ImageFilter.GaussianBlur(15))\n",
    "        blured_image.paste(blured_crop, (x1, y1))\n",
    "    blured_images.append(blured_image)"
   ]
  },
  {
   "cell_type": "code",
   "execution_count": 8,
   "id": "6d7da14d-a0aa-4eeb-be30-31da31c7d82d",
   "metadata": {},
   "outputs": [],
   "source": [
    "for i, img in enumerate(blured_images):\n",
    "    img.show(title=f\"Blurred Image {i}\")\n",
    "    img.save(f\"./blured/{i}.jpg\")"
   ]
  }
 ],
 "metadata": {
  "kernelspec": {
   "display_name": "Python 3 (ipykernel)",
   "language": "python",
   "name": "python3"
  },
  "language_info": {
   "codemirror_mode": {
    "name": "ipython",
    "version": 3
   },
   "file_extension": ".py",
   "mimetype": "text/x-python",
   "name": "python",
   "nbconvert_exporter": "python",
   "pygments_lexer": "ipython3",
   "version": "3.9.13"
  }
 },
 "nbformat": 4,
 "nbformat_minor": 5
}
