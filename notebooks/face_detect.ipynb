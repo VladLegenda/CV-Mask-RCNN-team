{
 "cells": [
  {
   "cell_type": "code",
   "execution_count": 1,
   "id": "b9aec01f-34cf-462a-a81c-8e92e1858c75",
   "metadata": {},
   "outputs": [],
   "source": [
    "import cv2\n",
    "from ultralytics import YOLO\n",
    "import torch\n",
    "import requests\n",
    "import numpy as np"
   ]
  },
  {
   "cell_type": "code",
   "execution_count": 31,
   "id": "ddf76dd1-be43-4a2d-8385-e3ce51cdf7c1",
   "metadata": {},
   "outputs": [],
   "source": [
    "model = YOLO(\"best (6).pt\")\n",
    "urls = [\"https://ultralytics.com/images/bus.jpg\", \"https://t4.ftcdn.net/jpg/04/85/39/87/360_F_485398728_aKL9duq8W78nnZ65BR3oGRMgari0sWEG.jpg\"]\n"
   ]
  },
  {
   "cell_type": "code",
   "execution_count": 32,
   "id": "344c4916-9500-412d-90ca-0191bd50ee82",
   "metadata": {},
   "outputs": [],
   "source": [
    "images = []\n",
    "for url in urls:\n",
    "    response = requests.get(url)\n",
    "    if response.status_code == 200:\n",
    "        arr = np.frombuffer(response.content, np.uint8)\n",
    "        image = cv2.imdecode(arr, cv2.IMREAD_COLOR)\n",
    "        images.append(image)"
   ]
  },
  {
   "cell_type": "code",
   "execution_count": 33,
   "id": "31ea6110-3e01-43df-bb1c-4d00851698c7",
   "metadata": {},
   "outputs": [
    {
     "name": "stdout",
     "output_type": "stream",
     "text": [
      "\n",
      "0: 640x640 2 faces, 48.5ms\n",
      "1: 640x640 10 faces, 48.5ms\n",
      "Speed: 3.5ms preprocess, 48.5ms inference, 2.0ms postprocess per image at shape (1, 3, 640, 640)\n"
     ]
    }
   ],
   "source": [
    "results = model.predict(images, conf=0.5)"
   ]
  },
  {
   "cell_type": "code",
   "execution_count": 38,
   "id": "d521c5a2-8f2e-484d-90cd-1bfe939d27f7",
   "metadata": {},
   "outputs": [],
   "source": [
    "\n",
    "blured_images = []\n",
    "for i, result in enumerate(results):\n",
    "    blured_images.append(images[i])\n",
    "    for j, box in enumerate(result.boxes):\n",
    "        x,y,w,h = map(round,box.xyxy.flatten().tolist())\n",
    "        crop = blured_images[i][y:h,x:w]\n",
    "        blured = cv2.GaussianBlur(crop, (15, 15), 30)\n",
    "        blured_images[i][y:h,x:w] = blured\n",
    "\n",
    "for i, img in enumerate(blured_images):\n",
    "    cv2.imshow(\"window\", img)\n",
    "    cv2.waitKey()\n",
    "    cv2.destroyAllWindows()\n",
    "    cv2.imwrite(f\"./blured/{i}.jpg\", img)"
   ]
  },
  {
   "cell_type": "code",
   "execution_count": null,
   "id": "f650addc-7409-4e89-9cfa-20ff16d4b64d",
   "metadata": {},
   "outputs": [],
   "source": []
  }
 ],
 "metadata": {
  "kernelspec": {
   "display_name": "Python 3 (ipykernel)",
   "language": "python",
   "name": "python3"
  },
  "language_info": {
   "codemirror_mode": {
    "name": "ipython",
    "version": 3
   },
   "file_extension": ".py",
   "mimetype": "text/x-python",
   "name": "python",
   "nbconvert_exporter": "python",
   "pygments_lexer": "ipython3",
   "version": "3.9.13"
  }
 },
 "nbformat": 4,
 "nbformat_minor": 5
}
